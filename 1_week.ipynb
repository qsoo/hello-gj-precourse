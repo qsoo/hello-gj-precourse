{
  "nbformat": 4,
  "nbformat_minor": 0,
  "metadata": {
    "colab": {
      "name": "1_week.ipynb",
      "provenance": [],
      "authorship_tag": "ABX9TyOC05YW3CIysKqXIXVOMKLe",
      "include_colab_link": true
    },
    "kernelspec": {
      "name": "python3",
      "display_name": "Python 3"
    }
  },
  "cells": [
    {
      "cell_type": "markdown",
      "metadata": {
        "id": "view-in-github",
        "colab_type": "text"
      },
      "source": [
        "<a href=\"https://colab.research.google.com/github/qsoo/hello-gj-precourse/blob/master/1_week.ipynb\" target=\"_parent\"><img src=\"https://colab.research.google.com/assets/colab-badge.svg\" alt=\"Open In Colab\"/></a>"
      ]
    },
    {
      "cell_type": "markdown",
      "metadata": {
        "id": "4udsZ5-wvSDS",
        "colab_type": "text"
      },
      "source": [
        "# 1주차 과제"
      ]
    },
    {
      "cell_type": "markdown",
      "metadata": {
        "id": "730OPGKfvnwP",
        "colab_type": "text"
      },
      "source": [
        "## 1. 언어\n",
        "\n",
        "#### SDL : 지능형 언어 및 컨텐츠의 글로벌 선도기업 \n",
        "*** \n",
        "- NMT, Neural Machine Translation : \n",
        "\n",
        "인공신경망 기계 번역 솔루션은 즉시 언어를 식별하고 연구 전문가가 컨텐츠를 지능적으로 번역하고 이해할 수 있도록 도와주는 서비스이다.  해당 서비스를 이용하여 COVID-19에 대응한 전세계 의료 연구, 발견 및  개발 등에 종사하는 모든 조직, 연구원 및 전문가들에게 글로벌 대응을 지원하기 위해 노력하다고 밝힘\n",
        "\n",
        "[링크](http://www.aitimes.kr/news/articleView.html?idxno=16077)"
      ]
    },
    {
      "cell_type": "markdown",
      "metadata": {
        "id": "567HBI7ZwrEE",
        "colab_type": "text"
      },
      "source": [
        "## 2. 음성\n",
        "\n",
        "#### NAVER Clova \n",
        "*** \n",
        "- nVoice : Clova 인공지능 음성합성 기술 \n",
        "\n",
        "네이버 뉴스 기사 '본문 읽기' 서비스에 오상진 전 아나운서의 목소리를 기반으로 개발한 AI 앵커 적용(MOS, Mean Opinion Score : 목소리의 자연스러움 평가 지표) 기존의 UTS(Unit-selection Text-to-Speech)와 비교하여 30% 이상 상승케\n",
        "\n",
        "[링크](http://www.aitimes.kr/news/articleView.html?idxno=16522)"
      ]
    },
    {
      "cell_type": "markdown",
      "metadata": {
        "id": "vW7ljqe0wtec",
        "colab_type": "text"
      },
      "source": [
        "## 3. 이미지\n",
        "\n",
        "#### Adobe \n",
        "*** \n",
        "- Adobe Sensei : Adobe AI 및 머신러닝 프레임워크 \n",
        "\n",
        "Adobe Sensei 기반의 포토샵 카메라는 인물, 사물, 음식 및 풍경 등 어떤 피사체의 사진을 찍더라도 미리 인식해 자동으로 가장 적합한 렌즈를 적용\n",
        "  필터효과, 실시간 포토샵 효과, 오토톤, 내용인식 기반 추천, 인물 사진 보정, 인플루언서 협업 렌즈, 소셜 미디어 지원 등 기능 탑재  \n",
        "\n",
        "[링크](http://www.aitimes.kr/news/articleView.html?idxno=16702)"
      ]
    },
    {
      "cell_type": "markdown",
      "metadata": {
        "id": "mzmNKadkwtmP",
        "colab_type": "text"
      },
      "source": [
        "## 4. 자율주행\n",
        "\n",
        "#### 바이두 \n",
        "*** \n",
        "- 바이두(기획) + 아폴로계획(시스템) \n",
        "\n",
        "중국 후난성 창사시의 특정 공공도로에서 사람이 조작하지 않는 완전 자율주행 단계인 '레벨 4'의  \n",
        "로봇택시 시험서비스를 시작 45대의 로봇택시를 투입해 창사시 시민들이 서비스를 이용하게끔  \n",
        "운전석에서는 안전요원 - 승객의 안전 확보  \n",
        "\n",
        "[링크](http://www.aitimes.kr/news/articleView.html?idxno=14329)"
      ]
    }
  ]
}